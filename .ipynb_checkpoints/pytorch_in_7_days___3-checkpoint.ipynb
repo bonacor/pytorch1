{
 "cells": [
  {
   "cell_type": "code",
   "execution_count": 3,
   "metadata": {
    "colab": {
     "base_uri": "https://localhost:8080/",
     "height": 34
    },
    "colab_type": "code",
    "executionInfo": {
     "elapsed": 2444,
     "status": "ok",
     "timestamp": 1564993932725,
     "user": {
      "displayName": "",
      "photoUrl": "",
      "userId": ""
     },
     "user_tz": -120
    },
    "id": "pY4zk00_54xt",
    "outputId": "51d32b35-4b1f-4c44-bbd1-05dd45971f1f"
   },
   "outputs": [
    {
     "data": {
      "text/plain": [
       "'1.1.0.post2'"
      ]
     },
     "execution_count": 3,
     "metadata": {},
     "output_type": "execute_result"
    }
   ],
   "source": [
    "import torch\n",
    "torch.__version__"
   ]
  },
  {
   "cell_type": "markdown",
   "metadata": {
    "colab_type": "text",
    "id": "3WNpcEAP54xy"
   },
   "source": [
    "## Gradients"
   ]
  },
  {
   "cell_type": "code",
   "execution_count": 4,
   "metadata": {},
   "outputs": [],
   "source": [
    "# A gradient tells you which direction\n",
    "# you need to move when you aredoing ML -- positive or\n",
    "# negative -- and well as having an actual numerical value\n",
    "# that tells you 'how much' you should move\n",
    "\n",
    "# a ML loop takes the gradients for a group\n",
    "# of tensor operations, and then updates the value of the tensors\n",
    "# that are being 'learned' using the product of the gradients\n",
    "# and the learning rate\n",
    "\n",
    "# But, 'a gradient with respect to what?' -- a loss function:\n",
    "# you use gradients to figure the direction to go to make your loss smaller"
   ]
  },
  {
   "cell_type": "code",
   "execution_count": 6,
   "metadata": {},
   "outputs": [],
   "source": [
    "# take the simplest algebra you can think of, e.g.:\n",
    "#\n",
    "# X + 1 = 3 \n",
    "#\n",
    "# and let's use a gradient to solve this simple stuff\n",
    "# with simple ML.\n",
    "#\n",
    "# You start with a random initial guess"
   ]
  },
  {
   "cell_type": "code",
   "execution_count": 37,
   "metadata": {},
   "outputs": [
    {
     "data": {
      "text/plain": [
       "tensor([0.0486], requires_grad=True)"
      ]
     },
     "execution_count": 37,
     "metadata": {},
     "output_type": "execute_result"
    }
   ],
   "source": [
    "X = torch.rand(1, requires_grad=True)\n",
    "X"
   ]
  },
  {
   "cell_type": "code",
   "execution_count": 38,
   "metadata": {},
   "outputs": [
    {
     "data": {
      "text/plain": [
       "tensor([1.0486], grad_fn=<AddBackward0>)"
      ]
     },
     "execution_count": 38,
     "metadata": {},
     "output_type": "execute_result"
    }
   ],
   "source": [
    "# and the formula\n",
    "Y = X + 1.0\n",
    "Y"
   ]
  },
  {
   "cell_type": "code",
   "execution_count": 39,
   "metadata": {},
   "outputs": [],
   "source": [
    "# now, which is my loss? how far am I off from the result, i.e. 3?\n",
    "# build a function that computes it:"
   ]
  },
  {
   "cell_type": "code",
   "execution_count": 40,
   "metadata": {},
   "outputs": [
    {
     "name": "stdout",
     "output_type": "stream",
     "text": [
      "-- Loss:  tensor(1.9040, grad_fn=<DivBackward0>)\n"
     ]
    }
   ],
   "source": [
    "def mse(Y):\n",
    "    diff = 3.0 - Y\n",
    "    return (diff ** 2).sum() / 2   # already prepared to deal with arrays, in this case a ingle floating point\n",
    "loss = mse(Y)\n",
    "print(\"-- Loss: \", loss)"
   ]
  },
  {
   "cell_type": "code",
   "execution_count": 41,
   "metadata": {},
   "outputs": [],
   "source": [
    "# the gradient on our X -- that tells us which direction\n",
    "# we are 'off' from the right answer -- let's look when we are too high"
   ]
  },
  {
   "cell_type": "code",
   "execution_count": 42,
   "metadata": {},
   "outputs": [
    {
     "data": {
      "text/plain": [
       "tensor([-1.9514])"
      ]
     },
     "execution_count": 42,
     "metadata": {},
     "output_type": "execute_result"
    }
   ],
   "source": [
    "loss.backward() # here is the 'backpropagation' of the gradient\n",
    "X.grad"
   ]
  },
  {
   "cell_type": "code",
   "execution_count": 43,
   "metadata": {},
   "outputs": [],
   "source": [
    "# we are ready to apply simple ML, i.e. a learning loop with a given learning rate:"
   ]
  },
  {
   "cell_type": "code",
   "execution_count": 46,
   "metadata": {},
   "outputs": [],
   "source": [
    "learning_rate = 1e-3\n",
    "\n",
    "for i in range(0, 10000):   # here is my learning loop\n",
    "    #print(\"Learning in progress.. \", i, \"/10000\")\n",
    "    Y = X + 1.0\n",
    "    loss = mse(Y)   # compute the loss\n",
    "    loss.backward()   # backpropagation\n",
    "    # and here is the 'learning', so we turn off the graidents\n",
    "    # from being updated temporarily\n",
    "    with torch.no_grad():\n",
    "        # the gradient tells you which direction you are off\n",
    "        # so you go in the opposite direction to correct the problem\n",
    "        X -= learning_rate * X.grad\n",
    "        # and we zero out the gradients to get fresh values on \n",
    "        # each learning loop iteration\n",
    "        X.grad.zero_()"
   ]
  },
  {
   "cell_type": "code",
   "execution_count": 47,
   "metadata": {},
   "outputs": [
    {
     "data": {
      "text/plain": [
       "tensor([1.9999], requires_grad=True)"
      ]
     },
     "execution_count": 47,
     "metadata": {},
     "output_type": "execute_result"
    }
   ],
   "source": [
    "# And the answer is:\n",
    "X"
   ]
  },
  {
   "cell_type": "code",
   "execution_count": 48,
   "metadata": {},
   "outputs": [],
   "source": [
    "# Of course this is approximate -- and that's an\n",
    "# important point -- ML is going to approximate\n",
    "# and you can control how close you get to the target answer\n",
    "# by altering your learning rate or your number of iterations\n",
    "#\n",
    "# experiment with this by altering the `learning_rate`\n",
    "# and the number of loops in `range`"
   ]
  }
 ],
 "metadata": {
  "accelerator": "GPU",
  "colab": {
   "collapsed_sections": [],
   "name": "pytorch_in_7_days___2-colab.ipynb",
   "provenance": [
    {
     "file_id": "https://github.com/bonacor/pytorch1/blob/master/pytorch_in_7_days___2.ipynb",
     "timestamp": 1564994111261
    }
   ],
   "version": "0.3.2"
  },
  "kernelspec": {
   "display_name": "Python 3",
   "language": "python",
   "name": "python3"
  },
  "language_info": {
   "codemirror_mode": {
    "name": "ipython",
    "version": 3
   },
   "file_extension": ".py",
   "mimetype": "text/x-python",
   "name": "python",
   "nbconvert_exporter": "python",
   "pygments_lexer": "ipython3",
   "version": "3.7.3"
  }
 },
 "nbformat": 4,
 "nbformat_minor": 1
}
